{
 "cells": [
  {
   "cell_type": "markdown",
   "metadata": {},
   "source": [
    "### Import Libraries"
   ]
  },
  {
   "cell_type": "code",
   "execution_count": 1,
   "metadata": {},
   "outputs": [],
   "source": [
    "import cv2\n",
    "import numpy as np"
   ]
  },
  {
   "cell_type": "markdown",
   "metadata": {},
   "source": [
    "### Capture Video Stream"
   ]
  },
  {
   "cell_type": "code",
   "execution_count": 2,
   "metadata": {},
   "outputs": [],
   "source": [
    "cap = cv2.VideoCapture(\"./Video/face_track.mp4\")"
   ]
  },
  {
   "cell_type": "markdown",
   "metadata": {},
   "source": [
    "### Take first frame of the video"
   ]
  },
  {
   "cell_type": "code",
   "execution_count": 3,
   "metadata": {},
   "outputs": [],
   "source": [
    "ret, frame = cap.read()"
   ]
  },
  {
   "cell_type": "markdown",
   "metadata": {},
   "source": [
    "### Set up the initial tracking window"
   ]
  },
  {
   "cell_type": "code",
   "execution_count": 4,
   "metadata": {},
   "outputs": [],
   "source": [
    "face_casc = cv2.CascadeClassifier(\"Haarcascades/haarcascade_frontalface_default.xml\")\n",
    "face_rects = face_casc.detectMultiScale(frame)"
   ]
  },
  {
   "cell_type": "markdown",
   "metadata": {},
   "source": [
    "### Convert the list to a tuple"
   ]
  },
  {
   "cell_type": "code",
   "execution_count": 5,
   "metadata": {},
   "outputs": [],
   "source": [
    "face_x, face_y, w, h = tuple(face_rects[0])\n",
    "track_window = (face_x, face_y, w, h)"
   ]
  },
  {
   "cell_type": "markdown",
   "metadata": {},
   "source": [
    "### set up the ROI for tracking"
   ]
  },
  {
   "cell_type": "code",
   "execution_count": 6,
   "metadata": {},
   "outputs": [],
   "source": [
    "roi = frame[face_y:face_y+h, face_y:face_y+w]"
   ]
  },
  {
   "cell_type": "markdown",
   "metadata": {},
   "source": [
    "### HSV color maping"
   ]
  },
  {
   "cell_type": "code",
   "execution_count": 7,
   "metadata": {},
   "outputs": [],
   "source": [
    "hsv_roi = cv2.cvtColor(roi, cv2.COLOR_BGR2HSV)"
   ]
  },
  {
   "cell_type": "markdown",
   "metadata": {},
   "source": [
    "### Histogram to target on each frame for the meanshift calculation"
   ]
  },
  {
   "cell_type": "code",
   "execution_count": 8,
   "metadata": {},
   "outputs": [],
   "source": [
    "roi_hist = cv2.calcHist(\n",
    "    [hsv_roi],\n",
    "    [0],\n",
    "    None,\n",
    "    [180],\n",
    "    [0, 180]\n",
    ")"
   ]
  },
  {
   "cell_type": "markdown",
   "metadata": {},
   "source": [
    "### Normalize the histogram"
   ]
  },
  {
   "cell_type": "code",
   "execution_count": 9,
   "metadata": {},
   "outputs": [
    {
     "data": {
      "text/plain": [
       "array([[  0.87931037],\n",
       "       [  0.        ],\n",
       "       [  0.        ],\n",
       "       [  0.        ],\n",
       "       [  3.5172415 ],\n",
       "       [  0.        ],\n",
       "       [  0.        ],\n",
       "       [  0.        ],\n",
       "       [  0.        ],\n",
       "       [  0.        ],\n",
       "       [  5.275862  ],\n",
       "       [  0.        ],\n",
       "       [  0.        ],\n",
       "       [  0.        ],\n",
       "       [  0.        ],\n",
       "       [  0.        ],\n",
       "       [  0.        ],\n",
       "       [  0.        ],\n",
       "       [  7.034483  ],\n",
       "       [  1.7586207 ],\n",
       "       [  0.        ],\n",
       "       [  0.        ],\n",
       "       [  0.        ],\n",
       "       [  0.        ],\n",
       "       [  0.        ],\n",
       "       [  0.        ],\n",
       "       [  7.034483  ],\n",
       "       [  0.        ],\n",
       "       [  0.        ],\n",
       "       [  0.        ],\n",
       "       [ 24.62069   ],\n",
       "       [  0.        ],\n",
       "       [  0.        ],\n",
       "       [  0.        ],\n",
       "       [  0.        ],\n",
       "       [  0.        ],\n",
       "       [  0.        ],\n",
       "       [  0.        ],\n",
       "       [  0.        ],\n",
       "       [  0.        ],\n",
       "       [  0.        ],\n",
       "       [  0.        ],\n",
       "       [  0.        ],\n",
       "       [  0.        ],\n",
       "       [  0.        ],\n",
       "       [  0.        ],\n",
       "       [  0.        ],\n",
       "       [  0.        ],\n",
       "       [  0.        ],\n",
       "       [  0.        ],\n",
       "       [  0.        ],\n",
       "       [  0.        ],\n",
       "       [  0.        ],\n",
       "       [  0.        ],\n",
       "       [  3.5172415 ],\n",
       "       [  0.        ],\n",
       "       [  0.        ],\n",
       "       [  0.        ],\n",
       "       [  0.        ],\n",
       "       [  0.        ],\n",
       "       [  7.034483  ],\n",
       "       [  0.        ],\n",
       "       [  0.        ],\n",
       "       [  0.        ],\n",
       "       [  0.        ],\n",
       "       [  0.        ],\n",
       "       [  0.        ],\n",
       "       [  0.        ],\n",
       "       [  3.5172415 ],\n",
       "       [  0.        ],\n",
       "       [  0.        ],\n",
       "       [  0.        ],\n",
       "       [  0.        ],\n",
       "       [  0.        ],\n",
       "       [  0.        ],\n",
       "       [  0.        ],\n",
       "       [  7.034483  ],\n",
       "       [  0.        ],\n",
       "       [  3.5172415 ],\n",
       "       [  0.        ],\n",
       "       [  3.5172415 ],\n",
       "       [  3.5172415 ],\n",
       "       [  0.        ],\n",
       "       [ 17.586208  ],\n",
       "       [  0.        ],\n",
       "       [  7.034483  ],\n",
       "       [  7.034483  ],\n",
       "       [  7.034483  ],\n",
       "       [  7.034483  ],\n",
       "       [  3.5172415 ],\n",
       "       [ 59.793106  ],\n",
       "       [  3.5172415 ],\n",
       "       [ 31.655174  ],\n",
       "       [ 10.551724  ],\n",
       "       [ 28.137932  ],\n",
       "       [ 10.551724  ],\n",
       "       [137.17242   ],\n",
       "       [ 89.68966   ],\n",
       "       [ 38.689655  ],\n",
       "       [168.82759   ],\n",
       "       [255.        ],\n",
       "       [175.86208   ],\n",
       "       [179.37932   ],\n",
       "       [135.4138    ],\n",
       "       [131.89656   ],\n",
       "       [ 86.17242   ],\n",
       "       [100.24138   ],\n",
       "       [ 35.172417  ],\n",
       "       [ 36.931034  ],\n",
       "       [  0.        ],\n",
       "       [ 12.310345  ],\n",
       "       [ 17.586208  ],\n",
       "       [ 10.551724  ],\n",
       "       [ 17.586208  ],\n",
       "       [  3.5172415 ],\n",
       "       [  3.5172415 ],\n",
       "       [  0.        ],\n",
       "       [  0.        ],\n",
       "       [  0.        ],\n",
       "       [  0.        ],\n",
       "       [  3.5172415 ],\n",
       "       [  0.        ],\n",
       "       [  0.        ],\n",
       "       [  0.        ],\n",
       "       [  0.        ],\n",
       "       [  0.        ],\n",
       "       [  0.        ],\n",
       "       [ 12.310345  ],\n",
       "       [  0.        ],\n",
       "       [  0.        ],\n",
       "       [  0.        ],\n",
       "       [  0.        ],\n",
       "       [  0.        ],\n",
       "       [  0.        ],\n",
       "       [  0.        ],\n",
       "       [  7.034483  ],\n",
       "       [  0.        ],\n",
       "       [  0.        ],\n",
       "       [  0.        ],\n",
       "       [  0.        ],\n",
       "       [  0.        ],\n",
       "       [  0.        ],\n",
       "       [  0.        ],\n",
       "       [  0.        ],\n",
       "       [  0.        ],\n",
       "       [  0.        ],\n",
       "       [  0.        ],\n",
       "       [  0.        ],\n",
       "       [  0.        ],\n",
       "       [  0.        ],\n",
       "       [  3.5172415 ],\n",
       "       [  0.        ],\n",
       "       [  0.        ],\n",
       "       [  0.        ],\n",
       "       [  0.        ],\n",
       "       [  0.        ],\n",
       "       [  0.        ],\n",
       "       [  0.        ],\n",
       "       [  0.        ],\n",
       "       [  0.        ],\n",
       "       [  0.        ],\n",
       "       [  0.        ],\n",
       "       [  0.        ],\n",
       "       [  0.        ],\n",
       "       [  0.        ],\n",
       "       [  3.5172415 ],\n",
       "       [  0.        ],\n",
       "       [  0.        ],\n",
       "       [  0.        ],\n",
       "       [  0.        ],\n",
       "       [  0.        ],\n",
       "       [  0.        ],\n",
       "       [  0.        ],\n",
       "       [  0.        ],\n",
       "       [  0.        ],\n",
       "       [  0.        ],\n",
       "       [  1.7586207 ],\n",
       "       [  0.        ],\n",
       "       [  0.        ],\n",
       "       [  0.        ]], dtype=float32)"
      ]
     },
     "execution_count": 9,
     "metadata": {},
     "output_type": "execute_result"
    }
   ],
   "source": [
    "cv2.normalize(\n",
    "    roi_hist,\n",
    "    roi_hist,\n",
    "    0,\n",
    "    255,\n",
    "    cv2.NORM_MINMAX\n",
    ")"
   ]
  },
  {
   "cell_type": "markdown",
   "metadata": {},
   "source": [
    "### Set the termination criteria\n",
    "10 iterations or move 1 pt"
   ]
  },
  {
   "cell_type": "code",
   "execution_count": 10,
   "metadata": {},
   "outputs": [],
   "source": [
    "term_crit = (cv2.TERM_CRITERIA_EPS | cv2.TERM_CRITERIA_COUNT, 10, 1)"
   ]
  },
  {
   "cell_type": "markdown",
   "metadata": {},
   "source": [
    "### It's a Kind of Magic"
   ]
  },
  {
   "cell_type": "code",
   "execution_count": 11,
   "metadata": {},
   "outputs": [],
   "source": [
    "# While loop\n",
    "while True:\n",
    "\n",
    "    # capture video\n",
    "    ret, frame = cap.read()\n",
    "    \n",
    "    # if statement\n",
    "    if ret == True:\n",
    "    \n",
    "        # Frame in HSV\n",
    "        hsv = cv2.cvtColor(\n",
    "            frame,\n",
    "            cv2.COLOR_BGR2HSV\n",
    "        )\n",
    "        \n",
    "        # Calculate the base of ROI\n",
    "        dest = cv2.calcBackProject(\n",
    "            [hsv],\n",
    "            [0],\n",
    "            roi_hist,\n",
    "            [0, 180],\n",
    "            1\n",
    "        )\n",
    "        \n",
    "        # Camshift to get the new coordinates of rectangle\n",
    "        ret, track_window = cv2.CamShift(\n",
    "            dest, \n",
    "            track_window,\n",
    "            term_crit\n",
    "        )\n",
    "        \n",
    "        # Draw new rectangle on image\n",
    "        pts = cv2.boxPoints(ret)\n",
    "        pts = np.int0(pts)\n",
    "        img2 = cv2.polylines(\n",
    "            frame,\n",
    "            [pts],\n",
    "            True,\n",
    "            (0, 255, ),\n",
    "            5\n",
    "        )\n",
    "        \n",
    "        # Open new window and display\n",
    "        cv2.imshow(\"Cam Shift\", img2)\n",
    "        \n",
    "        # Close window\n",
    "        if cv2.waitKey(50) & 0xFF == 27:\n",
    "            break\n",
    "        \n",
    "    # else statement\n",
    "    else:\n",
    "        break\n",
    "    \n",
    "# Release and Destroy\n",
    "cap.release()\n",
    "cv2.destroyAllWindows()"
   ]
  },
  {
   "cell_type": "code",
   "execution_count": null,
   "metadata": {},
   "outputs": [],
   "source": []
  },
  {
   "cell_type": "code",
   "execution_count": null,
   "metadata": {},
   "outputs": [],
   "source": []
  },
  {
   "cell_type": "code",
   "execution_count": null,
   "metadata": {},
   "outputs": [],
   "source": []
  },
  {
   "cell_type": "code",
   "execution_count": null,
   "metadata": {},
   "outputs": [],
   "source": []
  }
 ],
 "metadata": {
  "kernelspec": {
   "display_name": "Python 3",
   "language": "python",
   "name": "python3"
  },
  "language_info": {
   "codemirror_mode": {
    "name": "ipython",
    "version": 3
   },
   "file_extension": ".py",
   "mimetype": "text/x-python",
   "name": "python",
   "nbconvert_exporter": "python",
   "pygments_lexer": "ipython3",
   "version": "3.7.4"
  }
 },
 "nbformat": 4,
 "nbformat_minor": 2
}
