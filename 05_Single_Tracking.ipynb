{
 "cells": [
  {
   "cell_type": "markdown",
   "metadata": {},
   "source": [
    "### Import Libraries"
   ]
  },
  {
   "cell_type": "code",
   "execution_count": 1,
   "metadata": {},
   "outputs": [],
   "source": [
    "import cv2"
   ]
  },
  {
   "cell_type": "markdown",
   "metadata": {},
   "source": [
    "### Define our tracker"
   ]
  },
  {
   "cell_type": "code",
   "execution_count": 2,
   "metadata": {},
   "outputs": [],
   "source": [
    "def ask_for_tracker():\n",
    "    print(\"Which tracker API would you like to use?\")\n",
    "    print(\"Error 0 for BOOSTING: \")\n",
    "    print(\"Error 1 for MIL: \")\n",
    "    print(\"Error 2 for KCF: \")\n",
    "    print(\"Error 3 for TLD: \")\n",
    "    print(\"Error 4 for MEDIANFLOW: \")\n",
    "    print(\"Error 5 for GOTURN: \")\n",
    "    print(\"Error 6 for MOSSE: \")\n",
    "    print(\"Error 7 for CSRT: \")\n",
    "    \n",
    "    choice = input(\"Please select your tracker\")\n",
    "    \n",
    "    if choice == \"0\":\n",
    "        tracker = cv2.TrackerBoosting_create()\n",
    "    elif choice == \"1\":\n",
    "        tracker = cv2.TrackerMIL_create()\n",
    "    elif choice == \"2\":\n",
    "        tracker = cv2.TrackerKCF_create()\n",
    "    elif choice == \"3\":\n",
    "        tracker = cv2.TrackerTLD_create()\n",
    "    elif choice == \"4\":\n",
    "        tracker = cv2.TrackerMEDIANFLOW_create()\n",
    "    elif choice == \"6\":\n",
    "        tracker = cv2.TrackerGOTURN_create()\n",
    "    elif choice == \"7\":\n",
    "        tracker = cv2.TrackerMOSSE_create()\n",
    "    elif choice == \"8\":\n",
    "        tracker = cv2.TrackerCSRT_create()\n",
    "    \n",
    "    return tracker"
   ]
  },
  {
   "cell_type": "markdown",
   "metadata": {},
   "source": [
    "### It's a Kind of Magic"
   ]
  },
  {
   "cell_type": "code",
   "execution_count": 3,
   "metadata": {},
   "outputs": [
    {
     "name": "stdout",
     "output_type": "stream",
     "text": [
      "Which tracker API would you like to use?\n",
      "Error 0 for BOOSTING: \n",
      "Error 1 for MIL: \n",
      "Error 2 for KCF: \n",
      "Error 3 for TLD: \n",
      "Error 4 for MEDIANFLOW: \n",
      "Error 5 for GOTURN: \n",
      "Error 6 for MOSSE: \n",
      "Error 7 for CSRT: \n",
      "Please select your tracker6\n"
     ]
    },
    {
     "ename": "error",
     "evalue": "OpenCV(4.4.0) /tmp/pip-req-build-nzyrw1vf/opencv/modules/dnn/src/caffe/caffe_io.cpp:1121: error: (-2:Unspecified error) FAILED: fs.is_open(). Can't open \"goturn.prototxt\" in function 'ReadProtoFromTextFile'\n",
     "output_type": "error",
     "traceback": [
      "\u001b[0;31m---------------------------------------------------------------------------\u001b[0m",
      "\u001b[0;31merror\u001b[0m                                     Traceback (most recent call last)",
      "\u001b[0;32m<ipython-input-3-be350833ee16>\u001b[0m in \u001b[0;36m<module>\u001b[0;34m\u001b[0m\n\u001b[1;32m     15\u001b[0m \u001b[0;34m\u001b[0m\u001b[0m\n\u001b[1;32m     16\u001b[0m \u001b[0;31m# Initialize tracker\u001b[0m\u001b[0;34m\u001b[0m\u001b[0;34m\u001b[0m\u001b[0;34m\u001b[0m\u001b[0m\n\u001b[0;32m---> 17\u001b[0;31m \u001b[0mret\u001b[0m \u001b[0;34m=\u001b[0m \u001b[0mtracker\u001b[0m\u001b[0;34m.\u001b[0m\u001b[0minit\u001b[0m\u001b[0;34m(\u001b[0m\u001b[0mframe\u001b[0m\u001b[0;34m,\u001b[0m \u001b[0mroi\u001b[0m\u001b[0;34m)\u001b[0m\u001b[0;34m\u001b[0m\u001b[0;34m\u001b[0m\u001b[0m\n\u001b[0m\u001b[1;32m     18\u001b[0m \u001b[0;34m\u001b[0m\u001b[0m\n\u001b[1;32m     19\u001b[0m \u001b[0;31m# while Loop\u001b[0m\u001b[0;34m\u001b[0m\u001b[0;34m\u001b[0m\u001b[0;34m\u001b[0m\u001b[0m\n",
      "\u001b[0;31merror\u001b[0m: OpenCV(4.4.0) /tmp/pip-req-build-nzyrw1vf/opencv/modules/dnn/src/caffe/caffe_io.cpp:1121: error: (-2:Unspecified error) FAILED: fs.is_open(). Can't open \"goturn.prototxt\" in function 'ReadProtoFromTextFile'\n"
     ]
    }
   ],
   "source": [
    "# Tracker\n",
    "tracker = ask_for_tracker()\n",
    "\n",
    "# Tracker name\n",
    "tracker_name = str(tracker).split()[0][1:]\n",
    "\n",
    "# Capture the Video\n",
    "cap = cv2.VideoCapture(\"./Video/Vehicles.mp4\")\n",
    "\n",
    "# Read the first frame\n",
    "ret, frame = cap.read()\n",
    "\n",
    "# Select our ROI\n",
    "roi = cv2.selectROI(frame, False)\n",
    "\n",
    "# Initialize tracker\n",
    "ret = tracker.init(frame, roi)\n",
    "\n",
    "# while Loop\n",
    "while True:\n",
    "\n",
    "    # Read the capture\n",
    "    ret, frame = cap.read()\n",
    "    \n",
    "    # update tracker\n",
    "    success, roi = tracker.update(frame)\n",
    "    \n",
    "    # roi -> from tuple to int\n",
    "    (x, y, w, h) = tuple(map(int, roi))\n",
    "    \n",
    "    # Draw rects as tracker moves\n",
    "    if success:\n",
    "        \n",
    "        # Sucess on tracking\n",
    "        pts1 = (x, y)\n",
    "        pts2 = (x+w, y+h)\n",
    "        cv2.rectange(\n",
    "            frame,\n",
    "            pts1,\n",
    "            pts2,\n",
    "            (255, 155, 155),\n",
    "            3\n",
    "        )\n",
    "        \n",
    "    else:\n",
    "        \n",
    "        # Failure on tracking\n",
    "        cv2.putText(\n",
    "            frame,\n",
    "            \"Falied to track object\",\n",
    "            (100, 200),\n",
    "            cv2.FONT_HERSHEY_SIMPLEX,\n",
    "            1,\n",
    "            (25, 125, 25),\n",
    "            3\n",
    "        )\n",
    "        \n",
    "    # Display Tracker\n",
    "    cv2.putText(\n",
    "        frame,\n",
    "        tracker_name,\n",
    "        (20, 400),\n",
    "        cv2.FONT_HERSHEY_SIMPLEX,\n",
    "        1,\n",
    "        (255, 255, 0),\n",
    "        3\n",
    "    )\n",
    "    \n",
    "    \n",
    "    # Display result\n",
    "    cv2.imshow(tracker_name, frame)\n",
    "    \n",
    "    # Exit with Esc button\n",
    "    if cv2.waitKey(50) & 0xFF == 27:\n",
    "        break\n",
    "    \n",
    "    \n",
    "# Release the Capture & Destroy All Windows\n",
    "cap.release()\n",
    "cv2.destroyAllWindows()"
   ]
  },
  {
   "cell_type": "code",
   "execution_count": null,
   "metadata": {},
   "outputs": [],
   "source": []
  }
 ],
 "metadata": {
  "kernelspec": {
   "display_name": "Python 3",
   "language": "python",
   "name": "python3"
  },
  "language_info": {
   "codemirror_mode": {
    "name": "ipython",
    "version": 3
   },
   "file_extension": ".py",
   "mimetype": "text/x-python",
   "name": "python",
   "nbconvert_exporter": "python",
   "pygments_lexer": "ipython3",
   "version": "3.7.4"
  }
 },
 "nbformat": 4,
 "nbformat_minor": 2
}
